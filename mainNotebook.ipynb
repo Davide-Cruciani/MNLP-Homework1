{
 "cells": [
  {
   "cell_type": "code",
   "execution_count": 1,
   "id": "e911733a",
   "metadata": {},
   "outputs": [
    {
     "name": "stderr",
     "output_type": "stream",
     "text": [
      "[nltk_data] Downloading package punkt_tab to\n",
      "[nltk_data]     C:\\Users\\david\\AppData\\Roaming\\nltk_data...\n",
      "[nltk_data]   Package punkt_tab is already up-to-date!\n",
      "[nltk_data] Downloading package stopwords to\n",
      "[nltk_data]     C:\\Users\\david\\AppData\\Roaming\\nltk_data...\n",
      "[nltk_data]   Package stopwords is already up-to-date!\n",
      "[nltk_data] Downloading package wordnet to\n",
      "[nltk_data]     C:\\Users\\david\\AppData\\Roaming\\nltk_data...\n",
      "[nltk_data]   Package wordnet is already up-to-date!\n",
      "[nltk_data] Downloading package words to\n",
      "[nltk_data]     C:\\Users\\david\\AppData\\Roaming\\nltk_data...\n",
      "[nltk_data]   Package words is already up-to-date!\n",
      "[nltk_data] Downloading package punkt_tab to\n",
      "[nltk_data]     C:\\Users\\david\\AppData\\Roaming\\nltk_data...\n",
      "[nltk_data]   Package punkt_tab is already up-to-date!\n",
      "[nltk_data] Downloading package stopwords to\n",
      "[nltk_data]     C:\\Users\\david\\AppData\\Roaming\\nltk_data...\n",
      "[nltk_data]   Package stopwords is already up-to-date!\n",
      "[nltk_data] Downloading package wordnet to\n",
      "[nltk_data]     C:\\Users\\david\\AppData\\Roaming\\nltk_data...\n",
      "[nltk_data]   Package wordnet is already up-to-date!\n",
      "[nltk_data] Downloading package words to\n",
      "[nltk_data]     C:\\Users\\david\\AppData\\Roaming\\nltk_data...\n",
      "[nltk_data]   Package words is already up-to-date!\n"
     ]
    }
   ],
   "source": [
    "import pandas as pd\n",
    "import numpy as np\n",
    "import math\n",
    "import json\n",
    "import os\n",
    "\n",
    "from huggingface_hub import hf_hub_download\n",
    "\n",
    "import sklearn\n",
    "import sklearn.svm\n",
    "from sklearn.metrics import confusion_matrix, ConfusionMatrixDisplay\n",
    "from sklearn.preprocessing import OneHotEncoder\n",
    "\n",
    "import torch\n",
    "from torch.utils.data import DataLoader, TensorDataset\n",
    "\n",
    "import matplotlib.pyplot as plt\n",
    "\n",
    "import datasets\n",
    "\n",
    "import joblib\n",
    "import utilsLib as utils\n",
    "from dotenv import load_dotenv"
   ]
  },
  {
   "cell_type": "code",
   "execution_count": 2,
   "id": "4ccbc5ea",
   "metadata": {},
   "outputs": [],
   "source": [
    "load_dotenv()\n",
    "HF_TOKEN = os.environ['HF_TOKEN']\n",
    "DATASET_LINK = os.environ['DATASET_LINK']\n",
    "np.random.seed(42)\n"
   ]
  },
  {
   "cell_type": "code",
   "execution_count": 3,
   "id": "6c5a6cd5",
   "metadata": {},
   "outputs": [],
   "source": [
    "# Load encodings\n",
    "ENCODING_PATH = 'utils'\n",
    "ENCODINGS_NAME = {\n",
    "    \"subcategory\":\"subcategoriesAliases.json\",\n",
    "    \"category\":\"categoriesAliases.json\",\n",
    "    \"label\":\"labelsAliases.json\",\n",
    "    \"type\":\"typesAliases.json\", \n",
    "}\n",
    "\n",
    "# Ensemble Submodules paths\n",
    "MODELS_PATH = \"pretrained_models\"\n",
    "SVC_CATEGORIES_NAME = 'categorySVCWeights.pkl'\n",
    "SVC_DESCRIPTION_NAME = 'DescriptionSVM.pkl'\n",
    "SVM_PARAGRAPH_NAME = 'PenaltySVM_OOV.pkl'\n",
    "\n"
   ]
  },
  {
   "cell_type": "code",
   "execution_count": 4,
   "id": "8a8c2a4f",
   "metadata": {},
   "outputs": [],
   "source": [
    "encodings = dict()\n",
    "for key in ENCODINGS_NAME:\n",
    "    with open(f'{ENCODING_PATH}/{ENCODINGS_NAME[key]}', 'r') as file:\n",
    "        encodings[key] = json.load(file)"
   ]
  },
  {
   "cell_type": "code",
   "execution_count": 5,
   "id": "c6bfc974",
   "metadata": {},
   "outputs": [],
   "source": [
    "datasetTotal = datasets.load_dataset(DATASET_LINK, token=HF_TOKEN)\n",
    "datasetRaw = pd.read_csv('test_unlabeled.csv')"
   ]
  },
  {
   "cell_type": "code",
   "execution_count": 6,
   "id": "7ec3d1dc",
   "metadata": {},
   "outputs": [],
   "source": [
    "def baseInfoDataset(dataset, encodings, debug=False):\n",
    "    subcategoriesColumn = np.zeros((dataset.shape[0], len(encodings['subcategory'].keys())), dtype=int)\n",
    "    categoriesColumn = np.zeros((dataset.shape[0], len(encodings['category'].keys())), dtype=int)\n",
    "    typesColumn = np.zeros((dataset.shape[0], len(encodings['type'].keys())), dtype=int)\n",
    "    for i in range(dataset.shape[0]):\n",
    "        try:\n",
    "            subcategoriesColumn[i][encodings['subcategory'][dataset['subcategory'].iloc[i]]] = 1\n",
    "        except KeyError:\n",
    "            pass\n",
    "        try:\n",
    "            categoriesColumn[i][encodings['category'][dataset['category'].iloc[i]]] = 1\n",
    "        except KeyError:\n",
    "            pass\n",
    "        try:\n",
    "            typesColumn[i][encodings['type'][dataset['type'].iloc[i]]] = 1\n",
    "        except KeyError:\n",
    "            pass\n",
    "    if debug:\n",
    "        print(subcategoriesColumn.shape)\n",
    "        print(categoriesColumn.shape)\n",
    "        print(typesColumn.shape)\n",
    "    \n",
    "    return np.concatenate(\n",
    "        (subcategoriesColumn,categoriesColumn,typesColumn),\n",
    "        axis=1\n",
    "    )"
   ]
  },
  {
   "cell_type": "code",
   "execution_count": 7,
   "id": "c1da5383",
   "metadata": {},
   "outputs": [
    {
     "name": "stdout",
     "output_type": "stream",
     "text": [
      "(300, 133)\n",
      "(6251, 133)\n"
     ]
    }
   ],
   "source": [
    "baseDataTarget = baseInfoDataset(datasetRaw, encodings)\n",
    "baseDataTrain = baseInfoDataset(datasetTotal['train'].to_pandas(), encodings)\n",
    "print(baseDataTarget.shape)\n",
    "print(baseDataTrain.shape)"
   ]
  },
  {
   "cell_type": "code",
   "execution_count": null,
   "id": "137c0917",
   "metadata": {},
   "outputs": [],
   "source": [
    "paragraphCache = {'target': None, 'train': None, 'val':None}"
   ]
  },
  {
   "cell_type": "code",
   "execution_count": null,
   "id": "c99bcffd",
   "metadata": {},
   "outputs": [],
   "source": [
    "# for i in ['target', 'train']:\n",
    "#     with open(f'{i}Cache.json', 'w+', encoding='utf-8') as f:\n",
    "#         json.dump(paragraphCache[i], f)\n",
    "#         f.close()"
   ]
  },
  {
   "cell_type": "code",
   "execution_count": null,
   "id": "f5ecb25c",
   "metadata": {},
   "outputs": [],
   "source": [
    "for i in ['target', 'train', 'val']:\n",
    "    with open(f'utils/{i}Cache.json', 'r', encoding='utf-8') as f:\n",
    "        try:\n",
    "            paragraphCache[i] = json.load(f)\n",
    "        except json.JSONDecodeError:\n",
    "            paragraphCache[i] = None\n",
    "        f.close()"
   ]
  },
  {
   "cell_type": "code",
   "execution_count": 13,
   "id": "156f588e",
   "metadata": {},
   "outputs": [],
   "source": [
    "paragraphCache['target'] = None"
   ]
  },
  {
   "cell_type": "code",
   "execution_count": 14,
   "id": "2384d4c2",
   "metadata": {},
   "outputs": [],
   "source": [
    "def paragraphDataset(dataset, trainset, cache=paragraphCache):\n",
    "    columsToEncode = ['type', 'subcategory']\n",
    "    encoder = OneHotEncoder(handle_unknown='ignore', sparse_output=False)\n",
    "    target = dataset.copy()\n",
    "    train = trainset.copy()\n",
    "    trainEncodingTS = encoder.fit_transform(train[columsToEncode]).astype(float)\n",
    "    targetEncodingTS = encoder.transform(target[['type', 'subcategory']]).astype(float)\n",
    "   \n",
    "    UNK_TOKEN = '<UNK>'\n",
    "    processor = utils.ParagraphProcessor('utils/mostInfluentWords.json', \n",
    "                                            removed=['ˈ', 'also', 'since', 'many'],\n",
    "                                            unkonwn=UNK_TOKEN)\n",
    "   \n",
    "    if cache['train'] is None:\n",
    "        paragraphs = utils.getText(train, lang='en', max_workers=10)\n",
    "        cache['train'] = paragraphs\n",
    "    else:\n",
    "        paragraphs = cache['train']\n",
    "    \n",
    "    train['paragraph'] = paragraphs\n",
    "   \n",
    "    if cache['target'] is None:\n",
    "        paragraphs = utils.getText(target, lang='en', max_workers=10)\n",
    "        cache['target'] = paragraphs\n",
    "    else:\n",
    "        paragraphs = cache['target']\n",
    "    target['paragraph'] = paragraphs\n",
    "    \n",
    "    targetEncodingTFIDF, trainEncodingTFIDF = processor.process(target, train)\n",
    "    \n",
    "    targetData = np.hstack([targetEncodingTFIDF, targetEncodingTS])\n",
    "    trainData = np.hstack([trainEncodingTFIDF, trainEncodingTS])\n",
    "    return targetData, trainData"
   ]
  },
  {
   "cell_type": "code",
   "execution_count": 15,
   "id": "2b8e0844",
   "metadata": {},
   "outputs": [
    {
     "name": "stderr",
     "output_type": "stream",
     "text": [
      "100%|██████████| 300/300 [00:47<00:00,  6.29it/s]\n",
      "100%|\u001b[32m██████████\u001b[0m| 6251/6251 [00:06<00:00, 1035.84it/s]\n",
      "100%|\u001b[32m██████████\u001b[0m| 300/300 [00:00<00:00, 700.33it/s] \n"
     ]
    },
    {
     "name": "stdout",
     "output_type": "stream",
     "text": [
      "(300, 38056)\n",
      "(6251, 38056)\n"
     ]
    }
   ],
   "source": [
    "paragraphDataTarget, paragraphDataTrain = paragraphDataset(datasetRaw, datasetTotal['train'].to_pandas())\n",
    "print(paragraphDataTarget.shape)\n",
    "print(paragraphDataTrain.shape)"
   ]
  },
  {
   "cell_type": "code",
   "execution_count": 16,
   "id": "9276490e",
   "metadata": {},
   "outputs": [],
   "source": [
    "def descriptionDataset(dataset, trainset, debug=False):\n",
    "    UNK_TOKEN = '<UNK>'\n",
    "    target = dataset.copy()\n",
    "    train = trainset.copy()\n",
    "    columsToEncode = ['type', 'subcategory']\n",
    "    encoder = OneHotEncoder(handle_unknown='ignore', sparse_output=False)\n",
    "    \n",
    "   \n",
    "    trainEncodingTS = encoder.fit_transform(train[columsToEncode]).astype(float)\n",
    "    targetEncodingTS = encoder.transform(target[['type', 'subcategory']]).astype(float)\n",
    "    processor = utils.DescriptionProcessor(None, \n",
    "                                            removed=['ˈ', 'also', 'since', 'many'],\n",
    "                                            unkonwn=UNK_TOKEN)\n",
    "    \n",
    "    targetEncodingTFIDF, trainEncodingTFIDF = processor.process(target,train)\n",
    "    \n",
    "    if debug:\n",
    "        print(targetEncodingTFIDF.shape)\n",
    "        print(targetEncodingTS.shape)\n",
    "    \n",
    "    targetData = np.hstack([targetEncodingTFIDF, targetEncodingTS])\n",
    "    \n",
    "    if debug:\n",
    "        print(trainEncodingTFIDF.shape)\n",
    "        print(trainEncodingTS.shape)\n",
    "    trainData = np.concatenate((trainEncodingTFIDF, trainEncodingTS), axis=1)\n",
    "    \n",
    "    return targetData, trainData\n",
    "    "
   ]
  },
  {
   "cell_type": "code",
   "execution_count": 17,
   "id": "79510e52",
   "metadata": {},
   "outputs": [
    {
     "name": "stderr",
     "output_type": "stream",
     "text": [
      "100%|\u001b[32m██████████\u001b[0m| 6251/6251 [00:01<00:00, 4753.11it/s]\n",
      "100%|\u001b[32m██████████\u001b[0m| 300/300 [00:00<00:00, 2080.77it/s]\n"
     ]
    },
    {
     "name": "stdout",
     "output_type": "stream",
     "text": [
      "(300, 6642)\n",
      "(6251, 6642)\n"
     ]
    }
   ],
   "source": [
    "descriptionDataTarget, descriptionDataTrain  = descriptionDataset(datasetRaw, datasetTotal['train'].to_pandas())\n",
    "print(descriptionDataTarget.shape)\n",
    "print(descriptionDataTrain.shape)"
   ]
  },
  {
   "cell_type": "code",
   "execution_count": 18,
   "id": "165cfcd6",
   "metadata": {},
   "outputs": [
    {
     "name": "stdout",
     "output_type": "stream",
     "text": [
      "(6251,)\n"
     ]
    }
   ],
   "source": [
    "labelsTrain = datasetTotal['train'].to_pandas()['label'].apply(lambda x: encodings['label'][x])\n",
    "print(labelsTrain.shape)"
   ]
  },
  {
   "cell_type": "code",
   "execution_count": null,
   "id": "e3bb96eb",
   "metadata": {},
   "outputs": [],
   "source": [
    "if 'pretrained_models' not in os.listdir('.'):\n",
    "    for i in [SVC_CATEGORIES_NAME, SVC_CATEGORIES_NAME, SVM_PARAGRAPH_NAME]:\n",
    "        hf_hub_download(repo_id=os.environ['HF_REPO'],\n",
    "                        filename=i, \n",
    "                        local_dir=MODELS_PATH, \n",
    "                        token=HF_TOKEN, \n",
    "                        repo_type='model')\n",
    "else:\n",
    "    for i in [SVC_CATEGORIES_NAME, SVC_CATEGORIES_NAME, SVM_PARAGRAPH_NAME]:\n",
    "        if i not in os.listdir(MODELS_PATH):\n",
    "            hf_hub_download(repo_id=os.environ['HF_REPO'],\n",
    "                            filename=i, \n",
    "                            local_dir=MODELS_PATH, \n",
    "                            token=HF_TOKEN, \n",
    "                            repo_type='model')"
   ]
  },
  {
   "cell_type": "code",
   "execution_count": 19,
   "id": "dfbc3aa8",
   "metadata": {},
   "outputs": [],
   "source": [
    "svcBaseInfo = joblib.load(f\"{MODELS_PATH}/{SVC_CATEGORIES_NAME}\")\n",
    "svcDescription = joblib.load(f\"{MODELS_PATH}/{SVC_DESCRIPTION_NAME}\")\n",
    "svcParagraph = joblib.load(f\"{MODELS_PATH}/{SVM_PARAGRAPH_NAME}\")"
   ]
  },
  {
   "cell_type": "code",
   "execution_count": 20,
   "id": "e8024309",
   "metadata": {},
   "outputs": [
    {
     "name": "stdout",
     "output_type": "stream",
     "text": [
      "{0: 'cultural exclusive', 1: 'cultural agnostic', 2: 'cultural representative'}\n"
     ]
    }
   ],
   "source": [
    "encoding2label = {v:k for k,v in encodings['label'].items()}\n",
    "print(encoding2label)"
   ]
  },
  {
   "cell_type": "code",
   "execution_count": 21,
   "id": "21f25212",
   "metadata": {},
   "outputs": [],
   "source": [
    "predictionsBaseInfo = svcBaseInfo.predict_proba(baseDataTarget)\n",
    "predictionsDescription = svcDescription.predict_proba(descriptionDataTarget)\n",
    "predictionsParagraph = svcParagraph.predict_proba(paragraphDataTarget)"
   ]
  },
  {
   "cell_type": "code",
   "execution_count": null,
   "id": "c8720819",
   "metadata": {},
   "outputs": [],
   "source": [
    "# TrainPredictionsB = svcBaseInfo.predict_proba(baseDataTrain)\n",
    "# TrainPredictionsD = svcDescription.predict_proba(descriptionDataTrain)\n",
    "# TrainPredictionsP = svcParagraph.predict_proba(paragraphDataTrain)"
   ]
  },
  {
   "cell_type": "code",
   "execution_count": null,
   "id": "194df6d9",
   "metadata": {},
   "outputs": [],
   "source": [
    "# np.concatenate((TrainPredictionsB, TrainPredictionsP, TrainPredictionsD), axis=1).dump('prep/sideData/trainX.npy')\n",
    "# labelsTrain.to_numpy().dump('prep/sideData/trainY.npy')"
   ]
  },
  {
   "cell_type": "code",
   "execution_count": 22,
   "id": "5fba33d9",
   "metadata": {},
   "outputs": [
    {
     "name": "stdout",
     "output_type": "stream",
     "text": [
      "torch.Size([300, 9])\n"
     ]
    }
   ],
   "source": [
    "probabilitiesFinal = np.concatenate((predictionsBaseInfo, predictionsParagraph, predictionsDescription), axis=1)\n",
    "\n",
    "decisorInput = torch.Tensor(probabilitiesFinal).float()\n",
    "print(decisorInput.shape)"
   ]
  },
  {
   "cell_type": "code",
   "execution_count": 23,
   "id": "07b69b91",
   "metadata": {},
   "outputs": [],
   "source": [
    "class Decider(torch.nn.Module):\n",
    "    def __init__(self, weightsPath=None|str):\n",
    "        super().__init__()\n",
    "        self.linear =torch.nn.Linear(9,3, dtype=torch.float32)\n",
    "        if weightsPath is not None:\n",
    "            self.linear.load_state_dict(torch.load(weightsPath))\n",
    "        \n",
    "    def forward(self,x):\n",
    "        x = self.linear(x)     \n",
    "        return x\n",
    "    "
   ]
  },
  {
   "cell_type": "code",
   "execution_count": 24,
   "id": "1b6e7005",
   "metadata": {},
   "outputs": [],
   "source": [
    "decisor = Decider('pretrained_models/decisorWeights.pth')"
   ]
  },
  {
   "cell_type": "code",
   "execution_count": 25,
   "id": "2620ed5c",
   "metadata": {},
   "outputs": [],
   "source": [
    "decisor.eval()\n",
    "predictions = decisor(decisorInput).softmax(1).argmax(1)"
   ]
  },
  {
   "cell_type": "code",
   "execution_count": 31,
   "id": "1a732405",
   "metadata": {},
   "outputs": [],
   "source": [
    "results = datasetRaw.copy()\n",
    "literalResults = predictions.numpy()\n",
    "results['label'] = pd.Series(predictions.numpy()).apply(lambda x: encoding2label[x])"
   ]
  },
  {
   "cell_type": "code",
   "execution_count": 32,
   "id": "be84e185",
   "metadata": {},
   "outputs": [],
   "source": [
    "results.to_csv('results.csv', index=False)"
   ]
  }
 ],
 "metadata": {
  "kernelspec": {
   "display_name": "Python 3",
   "language": "python",
   "name": "python3"
  },
  "language_info": {
   "codemirror_mode": {
    "name": "ipython",
    "version": 3
   },
   "file_extension": ".py",
   "mimetype": "text/x-python",
   "name": "python",
   "nbconvert_exporter": "python",
   "pygments_lexer": "ipython3",
   "version": "3.12.6"
  }
 },
 "nbformat": 4,
 "nbformat_minor": 5
}
