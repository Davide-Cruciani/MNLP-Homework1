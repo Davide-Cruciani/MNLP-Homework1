{
 "cells": [
  {
   "cell_type": "markdown",
   "id": "6568b665",
   "metadata": {},
   "source": [
    "## Subcategory SVM"
   ]
  },
  {
   "cell_type": "code",
   "execution_count": 14,
   "id": "1f7b8a9d",
   "metadata": {},
   "outputs": [],
   "source": [
    "from sklearn.metrics import confusion_matrix, ConfusionMatrixDisplay\n",
    "from  sklearn import svm as sksvm\n",
    "import matplotlib.pyplot as plt\n",
    "import pandas as pd\n",
    "import sklearn.svm\n",
    "import numpy as np\n",
    "import datasets\n",
    "import joblib\n",
    "import dotenv\n",
    "import json\n",
    "import os\n"
   ]
  },
  {
   "cell_type": "code",
   "execution_count": 2,
   "id": "0e173b16",
   "metadata": {},
   "outputs": [],
   "source": [
    "dotenv.load_dotenv()\n",
    "HF_TOKEN = os.environ['HF_TOKEN']\n",
    "DATASET_LINK = os.environ['DATASET_LINK']\n",
    "SEED = 42\n",
    "TRAINING = True\n",
    "datasetTotal = datasets.load_dataset(DATASET_LINK, token=HF_TOKEN)"
   ]
  },
  {
   "cell_type": "code",
   "execution_count": 3,
   "id": "73ecee97",
   "metadata": {},
   "outputs": [],
   "source": [
    "valSet = pd.DataFrame(datasetTotal['validation'])[['subcategory', 'label', 'category','type']]\n",
    "trainSet = pd.DataFrame(datasetTotal['train'])[['subcategory', 'label', 'category', 'type']]"
   ]
  },
  {
   "cell_type": "code",
   "execution_count": 5,
   "id": "48527f21",
   "metadata": {},
   "outputs": [
    {
     "name": "stdout",
     "output_type": "stream",
     "text": [
      "112\n",
      "{'folk dance': 0, 'theatrical director': 1, 'greeting': 2, 'transport company': 3, 'transport': 4, 'literary genre': 5, 'animation studio': 6, 'organism': 7, 'textile': 8, 'government agency': 9, 'mode of transport': 10, 'athlete': 11, 'record label': 12, 'fish': 13, 'government': 14, 'food': 15, 'construction': 16, 'religion': 17, 'environment': 18, 'music festival': 19, 'film studio': 20, 'law': 21, 'policy': 22, 'musical profession': 23, 'book': 24, 'plant': 25, 'poet': 26, 'literary award': 27, 'media company': 28, 'art gallery': 29, 'religious movement': 30, 'tree': 31, 'architectural style': 32, 'writing style': 33, 'non-fiction writer': 34, 'television': 35, 'monument': 36, 'acting style': 37, 'architectural structure': 38, 'station': 39, 'sports team': 40, 'film': 41, 'designer': 42, 'art movement': 43, 'architect': 44, 'museum': 45, 'music genre': 46, 'theatrical genre': 47, 'historian': 48, 'visual arts': 49, 'sport': 50, 'cooking technique': 51, 'ingredient': 52, 'ritual': 53, 'model': 54, 'manga': 55, 'politician': 56, 'building material': 57, 'comics artist': 58, 'dance': 59, 'recurring sporting event': 60, 'sports club': 61, 'geographic location': 62, 'gesture': 63, 'biologist': 64, 'body language': 65, 'drink': 66, 'comics': 67, 'actor': 68, 'film director': 69, 'writer': 70, 'streaming service': 71, 'political party': 72, 'mores': 73, 'traditional costume': 74, 'religious leader': 75, 'cook': 76, 'publisher': 77, 'sports equipment': 78, 'fashion trend': 79, 'historical event': 80, 'musical group': 81, 'philosophical movement': 82, 'archive': 83, 'philosophy': 84, 'bookstore': 85, 'animation technique': 86, 'artist': 87, 'choreographer': 88, 'musician': 89, 'film festival': 90, 'neighborhood': 91, 'building': 92, 'film producer': 93, 'philosopher': 94, 'religious book': 95, 'production company': 96, 'film genre': 97, 'clothing': 98, 'mountain': 99, 'animal': 100, 'magazine': 101, 'river': 102, 'automobile manufacturer': 103, 'tradition': 104, 'happening': 105, 'painting': 106, 'poetry': 107, 'animated film': 108, 'dish': 109, 'photographer': 110, 'city': 111}\n",
      "19\n",
      "{'geography': 0, 'philosophy and religion': 1, 'gestures and habits': 2, 'history': 3, 'biology': 4, 'media': 5, 'sports': 6, 'performing arts': 7, 'literature': 8, 'architecture': 9, 'transportation': 10, 'comics and anime': 11, 'films': 12, 'food': 13, 'visual arts': 14, 'politics': 15, 'books': 16, 'fashion': 17, 'music': 18}\n",
      "2\n",
      "{'concept': 0, 'entity': 1}\n"
     ]
    }
   ],
   "source": [
    "subcatTrain = set(trainSet['subcategory'])\n",
    "subcatVal = set(valSet['subcategory'])\n",
    "\n",
    "subcat = subcatTrain.union(subcatVal)\n",
    "print(len(subcat))\n",
    "aliasesSub = {k:i for i,k in enumerate(subcat)}\n",
    "print(aliasesSub)\n",
    "\n",
    "catTrain = set(trainSet['category'])\n",
    "catVal = set(valSet['category'])\n",
    "\n",
    "cat = catTrain.union(catVal)\n",
    "print(len(cat))\n",
    "\n",
    "aliasesCat = {k:i for i,k in enumerate(cat)}\n",
    "print(aliasesCat)\n",
    "\n",
    "typeTrain = set(trainSet['type'])\n",
    "typeVal = set(valSet['type'])\n",
    "\n",
    "typeTot = typeTrain.union(typeVal)\n",
    "aliasesType = {k:i for i,k in enumerate(typeTot)}\n",
    "print(len(typeTot))\n",
    "print(aliasesType)\n",
    "aliasLabel = {\n",
    "    'cultural exclusive':0,\n",
    "    'cultural agnostic':1,\n",
    "    'cultural representative':2\n",
    "}\n"
   ]
  },
  {
   "cell_type": "code",
   "execution_count": null,
   "id": "3e3a8ef6",
   "metadata": {},
   "outputs": [],
   "source": [
    "# Backup the encodings\n",
    "if False:\n",
    "    aliasesList = [aliasesCat, aliasesSub, aliasesType, aliasLabel]\n",
    "    for n,i in enumerate(['categories', 'subcategories', 'types', 'labels']):\n",
    "        with open(f'{i}Aliases.json', 'w+') as file:\n",
    "            json.dump(aliasesList[n], file)"
   ]
  },
  {
   "cell_type": "code",
   "execution_count": 6,
   "id": "aa7a3dda",
   "metadata": {},
   "outputs": [
    {
     "name": "stdout",
     "output_type": "stream",
     "text": [
      "(6251, 133)\n"
     ]
    }
   ],
   "source": [
    "subCategoryEncodingTrain = np.zeros((trainSet.shape[0], len(subcat)), dtype=int)\n",
    "categoryEncodingTrain = np.zeros((trainSet.shape[0], len(cat)), dtype=int)\n",
    "typeEncodingTrain = np.zeros((trainSet.shape[0], len(typeTot)), dtype=int)\n",
    "\n",
    "finalTrainLabel = trainSet['label'].apply(lambda x: aliasLabel[x])\n",
    "\n",
    "for i in range(trainSet.shape[0]):\n",
    "    subCategoryEncodingTrain[i][aliasesSub[trainSet['subcategory'].iloc[i]]] = 1\n",
    "    categoryEncodingTrain[i][aliasesCat[trainSet['category'].iloc[i]]] = 1\n",
    "    typeEncodingTrain[i][aliasesType[trainSet['type'].iloc[i]]] = 1\n",
    "    \n",
    "finalTrainData = np.concatenate((subCategoryEncodingTrain, categoryEncodingTrain, typeEncodingTrain), axis=1)\n",
    "print(finalTrainData.shape)"
   ]
  },
  {
   "cell_type": "code",
   "execution_count": 7,
   "id": "2862dfbe",
   "metadata": {},
   "outputs": [
    {
     "name": "stdout",
     "output_type": "stream",
     "text": [
      "(300, 133)\n"
     ]
    }
   ],
   "source": [
    "subCategoryEncodingVal = np.zeros((valSet.shape[0], len(subcat)), dtype=int)\n",
    "categoryEncodingVal = np.zeros((valSet.shape[0], len(cat)), dtype=int)\n",
    "typeEncodingVal = np.zeros((valSet.shape[0], len(typeTot)), dtype=int)\n",
    "\n",
    "finalValLabel = valSet['label'].apply(lambda x: aliasLabel[x])\n",
    "\n",
    "for i in range(valSet.shape[0]):\n",
    "    try:\n",
    "        subCategoryEncodingVal[i][aliasesSub[valSet['subcategory'].iloc[i]]] = 1\n",
    "    except KeyError as e:\n",
    "        pass\n",
    "    try:\n",
    "        categoryEncodingVal[i][aliasesCat[valSet['category'].iloc[i]]] = 1\n",
    "    except KeyError as e:\n",
    "        pass\n",
    "    try:\n",
    "        typeEncodingVal[i][aliasesType[valSet['type'].iloc[i]]] = 1\n",
    "    except KeyError as e:\n",
    "        pass\n",
    "finalValData = np.concatenate((subCategoryEncodingVal, categoryEncodingVal, typeEncodingVal), axis=1)\n",
    "print(finalValData.shape)"
   ]
  },
  {
   "cell_type": "code",
   "execution_count": null,
   "id": "a787270c",
   "metadata": {},
   "outputs": [],
   "source": [
    "def trainPass(scale: float, \n",
    "              gamma: float, \n",
    "              kernel: str, \n",
    "              features: np.ndarray, \n",
    "              labels: np.ndarray, \n",
    "              validation_features: np.ndarray, \n",
    "              validation_labels: np.ndarray\n",
    "              )->tuple[float, sklearn.svm.SVC]:\n",
    "    modelSubcategory = sksvm.SVC(kernel=kernel, \n",
    "                                C=scale, \n",
    "                                gamma=gamma,\n",
    "                                class_weight={\n",
    "                                        2:0.2700,\n",
    "                                        1:0.2994,\n",
    "                                        0:0.4305\n",
    "                                    }, \n",
    "                                probability=True, \n",
    "                                random_state=SEED,\n",
    "                                max_iter=10000)\n",
    "    modelSubcategory.fit(features, labels)\n",
    "    accuracy_score = modelSubcategory.score(validation_features, validation_labels)\n",
    "    return accuracy_score, modelSubcategory"
   ]
  },
  {
   "cell_type": "code",
   "execution_count": 9,
   "id": "8e13d813",
   "metadata": {},
   "outputs": [
    {
     "name": "stdout",
     "output_type": "stream",
     "text": [
      "Accuracy: 59.3333%\n"
     ]
    }
   ],
   "source": [
    "# if TRAINING:\n",
    "#     bestScore = 0\n",
    "#     bestModel = None\n",
    "#     for k in ['rbf']:\n",
    "#         for s in np.linspace(1,1,1):\n",
    "#             for c in np.linspace(10,10,1):\n",
    "#                 scoreValidation, model =  trainPass(c,s,k,\n",
    "#                                           finalTrainData,\n",
    "#                                           finalTrainLabel,\n",
    "#                                           finalValData,\n",
    "#                                           finalValLabel)\n",
    "#                 if scoreValidation > bestScore:\n",
    "#                     bestModel = model\n",
    "#                     bestScore = scoreValidation\n",
    "#                 print(f'Kernel: {k}, C: {c:.4f}, Gamma: {s:.4f} -> {scoreValidation}')\n",
    "#     print(f\"Accurecy: {bestScore*100:.4f}\")\n",
    "#     print(bestModel)\n",
    "\n",
    "if TRAINING:\n",
    "    score, bestModel = trainPass(10,1,'rbf',\n",
    "                                 finalTrainData,\n",
    "                                 finalTrainLabel,\n",
    "                                 finalValData,\n",
    "                                 finalValLabel)\n",
    "    \n",
    "    print(f\"Accuracy: {score*100:.4f}%\")            "
   ]
  },
  {
   "cell_type": "markdown",
   "id": "ea03e0ac",
   "metadata": {},
   "source": [
    "Best model: kernel='rbf', C=10, gamma=1"
   ]
  },
  {
   "cell_type": "code",
   "execution_count": 10,
   "id": "08fa5e43",
   "metadata": {},
   "outputs": [],
   "source": [
    "if TRAINING:\n",
    "    joblib.dump(bestModel, 'categorySVCWeights.pkl')"
   ]
  },
  {
   "cell_type": "code",
   "execution_count": 11,
   "id": "8bcbbf53",
   "metadata": {},
   "outputs": [
    {
     "name": "stdout",
     "output_type": "stream",
     "text": [
      "Max confidence: 71.5174%\n",
      "Min confidence: 38.2382%\n",
      "Mean confidence: 64.8531%\n",
      "Std confidence: 6.3313%\n"
     ]
    }
   ],
   "source": [
    "if not TRAINING:\n",
    "    svm = joblib.load('categorySVCWeights.pkl')\n",
    "else:\n",
    "    svm = bestModel\n",
    "    \n",
    "results = svm.predict_proba(finalValData)\n",
    "confidence = results[np.arange(results.shape[0]), np.argmax(results, axis=1)]*100\n",
    "\n",
    "print(f'Max confidence: {confidence.max():.4f}%')\n",
    "print(f'Min confidence: {confidence.min():.4f}%')\n",
    "print(f'Mean confidence: {confidence.mean():.4f}%')\n",
    "print(f'Std confidence: {confidence.std():.4f}%')"
   ]
  },
  {
   "cell_type": "code",
   "execution_count": 12,
   "id": "c220112c",
   "metadata": {},
   "outputs": [
    {
     "data": {
      "image/png": "[encoded data removed]",
      "text/plain": [
       "<Figure size 640x480 with 2 Axes>"
      ]
     },
     "metadata": {},
     "output_type": "display_data"
    }
   ],
   "source": [
    "predictions = svm.predict(finalValData)\n",
    "\n",
    "cfm = confusion_matrix(y_true=finalValLabel, y_pred=predictions, labels=[0,1,2], normalize='true')\n",
    "disp = ConfusionMatrixDisplay(confusion_matrix=cfm, display_labels=['ce', 'ca', 'cr'])\n",
    "disp.plot()\n",
    "plt.show()"
   ]
  },
  {
   "cell_type": "code",
   "execution_count": 13,
   "id": "ec1e1529",
   "metadata": {},
   "outputs": [
    {
     "data": {
      "image/png": "[encoded data removed]",
      "text/plain": [
       "<Figure size 640x480 with 2 Axes>"
      ]
     },
     "metadata": {},
     "output_type": "display_data"
    }
   ],
   "source": [
    "predictions = svm.predict(finalTrainData)\n",
    "\n",
    "cfm = confusion_matrix(y_true=finalTrainLabel, y_pred=predictions, labels=[0,1,2], normalize='true')\n",
    "disp = ConfusionMatrixDisplay(confusion_matrix=cfm, display_labels=['ce', 'ca', 'cr'])\n",
    "disp.plot()\n",
    "plt.show()"
   ]
  }
 ],
 "metadata": {
  "kernelspec": {
   "display_name": "Python 3",
   "language": "python",
   "name": "python3"
  },
  "language_info": {
   "codemirror_mode": {
    "name": "ipython",
    "version": 3
   },
   "file_extension": ".py",
   "mimetype": "text/x-python",
   "name": "python",
   "nbconvert_exporter": "python",
   "pygments_lexer": "ipython3",
   "version": "3.12.6"
  }
 },
 "nbformat": 4,
 "nbformat_minor": 5
}
