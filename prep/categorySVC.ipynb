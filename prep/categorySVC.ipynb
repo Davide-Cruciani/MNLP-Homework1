{
 "cells": [
  {
   "cell_type": "markdown",
   "id": "6568b665",
   "metadata": {},
   "source": [
    "## Subcategory SVM"
   ]
  },
  {
   "cell_type": "code",
   "execution_count": 31,
   "id": "1f7b8a9d",
   "metadata": {},
   "outputs": [],
   "source": [
    "from sklearn.metrics import confusion_matrix, ConfusionMatrixDisplay\n",
    "from tqdm import tqdm\n",
    "from  sklearn import svm as sksvm\n",
    "import matplotlib.pyplot as plt\n",
    "import pandas as pd\n",
    "import sklearn.svm\n",
    "from sklearn.metrics import f1_score, recall_score, precision_score\n",
    "from itertools import product\n",
    "import numpy as np\n",
    "import datasets\n",
    "import joblib\n",
    "import dotenv\n",
    "import json\n",
    "import os\n"
   ]
  },
  {
   "cell_type": "code",
   "execution_count": 2,
   "id": "0e173b16",
   "metadata": {},
   "outputs": [],
   "source": [
    "dotenv.load_dotenv()\n",
    "HF_TOKEN = os.environ['HF_TOKEN']\n",
    "DATASET_LINK = os.environ['DATASET_LINK']\n",
    "SEED = 42\n",
    "TRAINING = True\n",
    "datasetTotal = datasets.load_dataset(DATASET_LINK, token=HF_TOKEN)"
   ]
  },
  {
   "cell_type": "code",
   "execution_count": 3,
   "id": "73ecee97",
   "metadata": {},
   "outputs": [],
   "source": [
    "valSet = pd.DataFrame(datasetTotal['validation'])[['subcategory', 'label', 'category','type']]\n",
    "trainSet = pd.DataFrame(datasetTotal['train'])[['subcategory', 'label', 'category', 'type']]"
   ]
  },
  {
   "cell_type": "code",
   "execution_count": 4,
   "id": "48527f21",
   "metadata": {},
   "outputs": [
    {
     "name": "stdout",
     "output_type": "stream",
     "text": [
      "112\n",
      "{'film producer': 0, 'construction': 1, 'music festival': 2, 'theatrical director': 3, 'archive': 4, 'dance': 5, 'biologist': 6, 'historical event': 7, 'manga': 8, 'sport': 9, 'dish': 10, 'ingredient': 11, 'government': 12, 'building': 13, 'mode of transport': 14, 'animated film': 15, 'station': 16, 'geographic location': 17, 'river': 18, 'model': 19, 'transport company': 20, 'mountain': 21, 'record label': 22, 'animal': 23, 'gesture': 24, 'cook': 25, 'television': 26, 'politician': 27, 'streaming service': 28, 'painting': 29, 'musician': 30, 'recurring sporting event': 31, 'religious movement': 32, 'body language': 33, 'magazine': 34, 'art gallery': 35, 'animation studio': 36, 'religion': 37, 'musical group': 38, 'sports club': 39, 'comics artist': 40, 'philosophy': 41, 'sports equipment': 42, 'food': 43, 'athlete': 44, 'designer': 45, 'non-fiction writer': 46, 'film': 47, 'architectural structure': 48, 'writer': 49, 'plant': 50, 'film studio': 51, 'publisher': 52, 'choreographer': 53, 'book': 54, 'fashion trend': 55, 'city': 56, 'animation technique': 57, 'sports team': 58, 'fish': 59, 'actor': 60, 'traditional costume': 61, 'building material': 62, 'organism': 63, 'greeting': 64, 'musical profession': 65, 'religious leader': 66, 'architect': 67, 'transport': 68, 'theatrical genre': 69, 'writing style': 70, 'literary genre': 71, 'policy': 72, 'poetry': 73, 'political party': 74, 'film genre': 75, 'architectural style': 76, 'philosopher': 77, 'art movement': 78, 'film director': 79, 'literary award': 80, 'environment': 81, 'mores': 82, 'historian': 83, 'museum': 84, 'film festival': 85, 'automobile manufacturer': 86, 'law': 87, 'production company': 88, 'comics': 89, 'tradition': 90, 'monument': 91, 'tree': 92, 'religious book': 93, 'clothing': 94, 'bookstore': 95, 'happening': 96, 'ritual': 97, 'neighborhood': 98, 'music genre': 99, 'philosophical movement': 100, 'visual arts': 101, 'cooking technique': 102, 'folk dance': 103, 'drink': 104, 'government agency': 105, 'textile': 106, 'artist': 107, 'acting style': 108, 'media company': 109, 'photographer': 110, 'poet': 111}\n",
      "19\n",
      "{'transportation': 0, 'books': 1, 'performing arts': 2, 'geography': 3, 'gestures and habits': 4, 'comics and anime': 5, 'biology': 6, 'fashion': 7, 'architecture': 8, 'history': 9, 'philosophy and religion': 10, 'visual arts': 11, 'literature': 12, 'food': 13, 'music': 14, 'media': 15, 'sports': 16, 'films': 17, 'politics': 18}\n",
      "2\n",
      "{'entity': 0, 'concept': 1}\n"
     ]
    }
   ],
   "source": [
    "subcatTrain = set(trainSet['subcategory'])\n",
    "subcatVal = set(valSet['subcategory'])\n",
    "\n",
    "subcat = subcatTrain.union(subcatVal)\n",
    "print(len(subcat))\n",
    "aliasesSub = {k:i for i,k in enumerate(subcat)}\n",
    "print(aliasesSub)\n",
    "\n",
    "catTrain = set(trainSet['category'])\n",
    "catVal = set(valSet['category'])\n",
    "\n",
    "cat = catTrain.union(catVal)\n",
    "print(len(cat))\n",
    "\n",
    "aliasesCat = {k:i for i,k in enumerate(cat)}\n",
    "print(aliasesCat)\n",
    "\n",
    "typeTrain = set(trainSet['type'])\n",
    "typeVal = set(valSet['type'])\n",
    "\n",
    "typeTot = typeTrain.union(typeVal)\n",
    "aliasesType = {k:i for i,k in enumerate(typeTot)}\n",
    "print(len(typeTot))\n",
    "print(aliasesType)\n",
    "aliasLabel = {\n",
    "    'cultural exclusive':0,\n",
    "    'cultural agnostic':1,\n",
    "    'cultural representative':2\n",
    "}\n"
   ]
  },
  {
   "cell_type": "code",
   "execution_count": null,
   "id": "3e3a8ef6",
   "metadata": {},
   "outputs": [],
   "source": [
    "# Backup the encodings\n",
    "if False:\n",
    "    aliasesList = [aliasesCat, aliasesSub, aliasesType, aliasLabel]\n",
    "    for n,i in enumerate(['categories', 'subcategories', 'types', 'labels']):\n",
    "        with open(f'{i}Aliases.json', 'w+') as file:\n",
    "            json.dump(aliasesList[n], file)"
   ]
  },
  {
   "cell_type": "code",
   "execution_count": 5,
   "id": "aa7a3dda",
   "metadata": {},
   "outputs": [
    {
     "name": "stdout",
     "output_type": "stream",
     "text": [
      "(6251, 133)\n"
     ]
    }
   ],
   "source": [
    "subCategoryEncodingTrain = np.zeros((trainSet.shape[0], len(subcat)), dtype=int)\n",
    "categoryEncodingTrain = np.zeros((trainSet.shape[0], len(cat)), dtype=int)\n",
    "typeEncodingTrain = np.zeros((trainSet.shape[0], len(typeTot)), dtype=int)\n",
    "\n",
    "finalTrainLabel = trainSet['label'].apply(lambda x: aliasLabel[x])\n",
    "\n",
    "for i in range(trainSet.shape[0]):\n",
    "    subCategoryEncodingTrain[i][aliasesSub[trainSet['subcategory'].iloc[i]]] = 1\n",
    "    categoryEncodingTrain[i][aliasesCat[trainSet['category'].iloc[i]]] = 1\n",
    "    typeEncodingTrain[i][aliasesType[trainSet['type'].iloc[i]]] = 1\n",
    "    \n",
    "finalTrainData = np.concatenate((subCategoryEncodingTrain, categoryEncodingTrain, typeEncodingTrain), axis=1)\n",
    "print(finalTrainData.shape)"
   ]
  },
  {
   "cell_type": "code",
   "execution_count": 6,
   "id": "2862dfbe",
   "metadata": {},
   "outputs": [
    {
     "name": "stdout",
     "output_type": "stream",
     "text": [
      "(300, 133)\n"
     ]
    }
   ],
   "source": [
    "subCategoryEncodingVal = np.zeros((valSet.shape[0], len(subcat)), dtype=int)\n",
    "categoryEncodingVal = np.zeros((valSet.shape[0], len(cat)), dtype=int)\n",
    "typeEncodingVal = np.zeros((valSet.shape[0], len(typeTot)), dtype=int)\n",
    "\n",
    "finalValLabel = valSet['label'].apply(lambda x: aliasLabel[x])\n",
    "\n",
    "for i in range(valSet.shape[0]):\n",
    "    try:\n",
    "        subCategoryEncodingVal[i][aliasesSub[valSet['subcategory'].iloc[i]]] = 1\n",
    "    except KeyError as e:\n",
    "        pass\n",
    "    try:\n",
    "        categoryEncodingVal[i][aliasesCat[valSet['category'].iloc[i]]] = 1\n",
    "    except KeyError as e:\n",
    "        pass\n",
    "    try:\n",
    "        typeEncodingVal[i][aliasesType[valSet['type'].iloc[i]]] = 1\n",
    "    except KeyError as e:\n",
    "        pass\n",
    "finalValData = np.concatenate((subCategoryEncodingVal, categoryEncodingVal, typeEncodingVal), axis=1)\n",
    "print(finalValData.shape)"
   ]
  },
  {
   "cell_type": "code",
   "execution_count": 37,
   "id": "a787270c",
   "metadata": {},
   "outputs": [],
   "source": [
    "def trainPass(scale: float, \n",
    "              gamma: float, \n",
    "              kernel: str, \n",
    "              features: np.ndarray, \n",
    "              labels: np.ndarray, \n",
    "              validation_features: np.ndarray, \n",
    "              validation_labels: np.ndarray\n",
    "              )->tuple[float, sklearn.svm.SVC]:\n",
    "    modelSubcategory = sksvm.SVC(kernel=kernel, \n",
    "                                C=scale, \n",
    "                                gamma=gamma,\n",
    "                                class_weight={0: 0.7743094264833396, 1: 1.1130698005698005, 2: 1.2343996840442337}, \n",
    "                                probability=True, \n",
    "                                random_state=SEED,\n",
    "                                max_iter=10000)\n",
    "    modelSubcategory.fit(features, labels)\n",
    "    accuracy_score = modelSubcategory.score(validation_features, validation_labels)\n",
    "    return accuracy_score, modelSubcategory"
   ]
  },
  {
   "cell_type": "code",
   "execution_count": 39,
   "id": "8e13d813",
   "metadata": {},
   "outputs": [
    {
     "name": "stdout",
     "output_type": "stream",
     "text": [
      "SVC(C=4.0,\n",
      "    class_weight={0: 0.7743094264833396, 1: 1.1130698005698005,\n",
      "                  2: 1.2343996840442337},\n",
      "    gamma=0.1, kernel='linear', max_iter=10000, probability=True,\n",
      "    random_state=42)\n",
      "Accuracy: 64.0000%\n"
     ]
    }
   ],
   "source": [
    "\n",
    "bestScore = 0\n",
    "bestModel = None\n",
    "\n",
    "TRAINING = 1\n",
    "\n",
    "if TRAINING == 2:\n",
    "    gammaCandidates = np.linspace(0.1,1,10)\n",
    "    cCandidates = np.linspace(1,10,10)\n",
    "    kernels = ['rbf', 'linear']\n",
    "    for g,c,k in tqdm(product(gammaCandidates, cCandidates, kernels)):\n",
    "        score, model =  trainPass(c,g,k,\n",
    "                                    finalTrainData,\n",
    "                                    finalTrainLabel,\n",
    "                                    finalValData,\n",
    "                                    finalValLabel)\n",
    "        if score > bestScore:\n",
    "            bestModel = model\n",
    "            bestScore = score\n",
    "            params = {'c':c, 'gamma':g}\n",
    "    print(bestModel)\n",
    "    print(f\"Accuracy: {bestScore*100:.4f}%\")\n",
    "    \n",
    "elif TRAINING == 1:\n",
    "    c = 4.0\n",
    "    gamma = 0.1\n",
    "    k = 'linear'\n",
    "    score, model =  trainPass(c,gamma,k,\n",
    "                                    finalTrainData,\n",
    "                                    finalTrainLabel,\n",
    "                                    finalValData,\n",
    "                                    finalValLabel)\n",
    "    print(model)\n",
    "    print(f\"Accuracy: {score*100:.4f}%\")\n",
    "\n",
    "\n",
    "\n",
    "\n",
    "# score, bestModel = trainPass(10,1,'rbf',\n",
    "#                                  finalTrainData,\n",
    "#                                  finalTrainLabel,\n",
    "#                                  finalValData,\n",
    "#                                  finalValLabel)          "
   ]
  },
  {
   "cell_type": "code",
   "execution_count": null,
   "id": "83104dd5",
   "metadata": {},
   "outputs": [],
   "source": [
    "# {'k': 'rbf', 'c': 4.0, 'g': 0.1}"
   ]
  },
  {
   "cell_type": "code",
   "execution_count": 32,
   "id": "265df9f4",
   "metadata": {},
   "outputs": [
    {
     "name": "stdout",
     "output_type": "stream",
     "text": [
      "F1 Score: 0.677557436338669\n",
      "Recall: 0.6666666666666666\n",
      "Precision: 0.7005823148813802\n"
     ]
    }
   ],
   "source": [
    "print(f\"F1 Score: {f1_score(bestModel.predict(finalValData), finalValLabel,average='weighted')}\")\n",
    "print(f\"Recall: {recall_score(bestModel.predict(finalValData), finalValLabel, average='weighted')}\")\n",
    "print(f\"Precision: {precision_score(bestModel.predict(finalValData), finalValLabel, average='weighted')}\")"
   ]
  },
  {
   "cell_type": "code",
   "execution_count": 10,
   "id": "08fa5e43",
   "metadata": {},
   "outputs": [],
   "source": [
    "if TRAINING:\n",
    "    joblib.dump(bestModel, 'categorySVCWeights.pkl')"
   ]
  },
  {
   "cell_type": "code",
   "execution_count": 21,
   "id": "8bcbbf53",
   "metadata": {},
   "outputs": [
    {
     "name": "stdout",
     "output_type": "stream",
     "text": [
      "Max confidence: 77.1424%\n",
      "Min confidence: 35.3201%\n",
      "Mean confidence: 63.8154%\n",
      "Std confidence: 8.8505%\n"
     ]
    }
   ],
   "source": [
    "svm = bestModel\n",
    "    \n",
    "results = svm.predict_proba(finalValData)\n",
    "confidence = results[np.arange(results.shape[0]), np.argmax(results, axis=1)]*100\n",
    "\n",
    "print(f'Max confidence: {confidence.max():.4f}%')\n",
    "print(f'Min confidence: {confidence.min():.4f}%')\n",
    "print(f'Mean confidence: {confidence.mean():.4f}%')\n",
    "print(f'Std confidence: {confidence.std():.4f}%')"
   ]
  },
  {
   "cell_type": "code",
   "execution_count": 25,
   "id": "c220112c",
   "metadata": {},
   "outputs": [
    {
     "data": {
      "image/png": "[encoded data removed]",
      "text/plain": [
       "<Figure size 640x480 with 2 Axes>"
      ]
     },
     "metadata": {},
     "output_type": "display_data"
    }
   ],
   "source": [
    "predictions = svm.predict(finalValData)\n",
    "\n",
    "cfm = confusion_matrix(y_true=finalValLabel, y_pred=predictions, labels=[0,1,2], normalize='true')\n",
    "disp = ConfusionMatrixDisplay(confusion_matrix=cfm, display_labels=['ce', 'ca', 'cr'])\n",
    "disp.plot()\n",
    "plt.show()"
   ]
  },
  {
   "cell_type": "code",
   "execution_count": 26,
   "id": "ec1e1529",
   "metadata": {},
   "outputs": [
    {
     "data": {
      "image/png": "[encoded data removed]",
      "text/plain": [
       "<Figure size 640x480 with 2 Axes>"
      ]
     },
     "metadata": {},
     "output_type": "display_data"
    }
   ],
   "source": [
    "predictions = svm.predict(finalTrainData)\n",
    "\n",
    "cfm = confusion_matrix(y_true=finalTrainLabel, y_pred=predictions, labels=[0,1,2], normalize='true')\n",
    "disp = ConfusionMatrixDisplay(confusion_matrix=cfm, display_labels=['ce', 'ca', 'cr'])\n",
    "disp.plot()\n",
    "plt.show()"
   ]
  }
 ],
 "metadata": {
  "kernelspec": {
   "display_name": "Python 3",
   "language": "python",
   "name": "python3"
  },
  "language_info": {
   "codemirror_mode": {
    "name": "ipython",
    "version": 3
   },
   "file_extension": ".py",
   "mimetype": "text/x-python",
   "name": "python",
   "nbconvert_exporter": "python",
   "pygments_lexer": "ipython3",
   "version": "3.12.6"
  }
 },
 "nbformat": 4,
 "nbformat_minor": 5
}
