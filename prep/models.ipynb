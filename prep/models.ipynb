{
 "cells": [
  {
   "cell_type": "markdown",
   "id": "6568b665",
   "metadata": {},
   "source": [
    "## Subcategory SVM"
   ]
  },
  {
   "cell_type": "code",
   "execution_count": 12,
   "id": "1f7b8a9d",
   "metadata": {},
   "outputs": [],
   "source": [
    "from  sklearn import svm as sksvm\n",
    "import pandas as pd\n",
    "import numpy as np\n",
    "import datasets\n",
    "import sklearn\n",
    "import joblib\n",
    "import dotenv\n",
    "import os\n"
   ]
  },
  {
   "cell_type": "code",
   "execution_count": 13,
   "id": "0e173b16",
   "metadata": {},
   "outputs": [],
   "source": [
    "dotenv.load_dotenv()\n",
    "HF_TOKEN = os.environ['HF_TOKEN']\n",
    "SEED = 42\n",
    "TRAINING = False\n",
    "datasetTotal = datasets.load_dataset('sapienzanlp/nlp2025_hw1_cultural_dataset', token=HF_TOKEN)"
   ]
  },
  {
   "cell_type": "code",
   "execution_count": 14,
   "id": "73ecee97",
   "metadata": {},
   "outputs": [],
   "source": [
    "valSet = pd.DataFrame(datasetTotal['validation'])[['subcategory', 'label', 'category','type']]\n",
    "trainSet = pd.DataFrame(datasetTotal['train'])[['subcategory', 'label', 'category', 'type']]"
   ]
  },
  {
   "cell_type": "code",
   "execution_count": 15,
   "id": "48527f21",
   "metadata": {},
   "outputs": [
    {
     "name": "stdout",
     "output_type": "stream",
     "text": [
      "{'archive': 0, 'fish': 1, 'folk dance': 2, 'literary genre': 3, 'religious book': 4, 'religious leader': 5, 'sports equipment': 6, 'publisher': 7, 'biologist': 8, 'production company': 9, 'musician': 10, 'musical profession': 11, 'visual arts': 12, 'food': 13, 'political party': 14, 'plant': 15, 'construction': 16, 'religious movement': 17, 'environment': 18, 'drink': 19, 'mores': 20, 'mode of transport': 21, 'manga': 22, 'athlete': 23, 'poetry': 24, 'mountain': 25, 'music genre': 26, 'traditional costume': 27, 'bookstore': 28, 'ritual': 29, 'body language': 30, 'philosophy': 31, 'designer': 32, 'poet': 33, 'philosopher': 34, 'animation studio': 35, 'recurring sporting event': 36, 'painting': 37, 'comics': 38, 'fashion trend': 39, 'museum': 40, 'writer': 41, 'architect': 42, 'musical group': 43, 'tradition': 44, 'building': 45, 'architectural structure': 46, 'film studio': 47, 'cooking technique': 48, 'theatrical genre': 49, 'gesture': 50, 'neighborhood': 51, 'media company': 52, 'clothing': 53, 'cook': 54, 'automobile manufacturer': 55, 'architectural style': 56, 'model': 57, 'historian': 58, 'magazine': 59, 'animated film': 60, 'government': 61, 'textile': 62, 'comics artist': 63, 'film genre': 64, 'law': 65, 'happening': 66, 'theatrical director': 67, 'film director': 68, 'record label': 69, 'river': 70, 'film festival': 71, 'animal': 72, 'historical event': 73, 'greeting': 74, 'geographic location': 75, 'philosophical movement': 76, 'station': 77, 'film': 78, 'actor': 79, 'monument': 80, 'photographer': 81, 'streaming service': 82, 'film producer': 83, 'dance': 84, 'acting style': 85, 'politician': 86, 'transport': 87, 'building material': 88, 'artist': 89, 'government agency': 90, 'book': 91, 'animation technique': 92, 'television': 93, 'religion': 94, 'city': 95, 'sports club': 96, 'ingredient': 97, 'non-fiction writer': 98, 'art gallery': 99, 'sport': 100, 'policy': 101, 'dish': 102, 'organism': 103, 'choreographer': 104, 'transport company': 105, 'art movement': 106, 'sports team': 107, 'literary award': 108, 'tree': 109, 'writing style': 110, 'music festival': 111}\n",
      "{'performing arts': 0, 'geography': 1, 'music': 2, 'comics and anime': 3, 'fashion': 4, 'films': 5, 'media': 6, 'visual arts': 7, 'architecture': 8, 'food': 9, 'books': 10, 'history': 11, 'literature': 12, 'politics': 13, 'gestures and habits': 14, 'biology': 15, 'sports': 16, 'transportation': 17, 'philosophy and religion': 18}\n"
     ]
    }
   ],
   "source": [
    "subcatTrain = set(trainSet['subcategory'].unique())\n",
    "subcatVal = set(valSet['subcategory'].unique())\n",
    "\n",
    "subcat = subcatTrain.union(subcatVal)\n",
    "\n",
    "aliasesSub = {k:i for i,k in enumerate(subcat)}\n",
    "print(aliasesSub)\n",
    "\n",
    "catTrain = set(trainSet['category'].unique())\n",
    "catVal = set(valSet['category'].unique())\n",
    "\n",
    "cat = catTrain.union(catVal)\n",
    "\n",
    "aliasesCat = {k:i for i,k in enumerate(cat)}\n",
    "print(aliasesCat)\n",
    "\n",
    "typeTrain = set(trainSet['type'].unique())\n",
    "typeVal = set(valSet['type'].unique())\n",
    "\n",
    "typeTot = typeTrain.union(typeVal)\n",
    "aliasesType = {k:i for i,k in enumerate(typeTot)}\n",
    "\n",
    "aliasLabel = {\n",
    "    'cultural exclusive':0,\n",
    "    'cultural agnostic':1,\n",
    "    'cultural representative':2\n",
    "}\n"
   ]
  },
  {
   "cell_type": "code",
   "execution_count": 16,
   "id": "7e42ffdd",
   "metadata": {},
   "outputs": [],
   "source": [
    "Ytrain = trainSet['label'].apply(lambda x: aliasLabel[x])\n",
    "Xtrain1 = trainSet['subcategory'].apply(lambda x: aliasesSub[x])\n",
    "Xtrain2 = trainSet['category'].apply(lambda x: aliasesCat[x])\n",
    "Xtrain3 = trainSet['type'].apply(lambda x: aliasesType[x])\n",
    "Xtrain = pd.DataFrame({'subcategory':Xtrain1, 'category':Xtrain2, 'type': Xtrain3})"
   ]
  },
  {
   "cell_type": "code",
   "execution_count": 17,
   "id": "49ed3c56",
   "metadata": {},
   "outputs": [],
   "source": [
    "Yval = valSet['label'].apply(lambda x: aliasLabel[x])\n",
    "Xval1 = valSet['subcategory'].apply(lambda x: aliasesSub[x])\n",
    "Xval2 = valSet['category'].apply(lambda x: aliasesCat[x])\n",
    "Xval3 = valSet['type'].apply(lambda x: aliasesType[x])\n",
    "Xval = pd.DataFrame({'subcategory':Xval1, 'category':Xval2, 'type': Xval3})"
   ]
  },
  {
   "cell_type": "code",
   "execution_count": 18,
   "id": "281428eb",
   "metadata": {},
   "outputs": [
    {
     "name": "stdout",
     "output_type": "stream",
     "text": [
      "<class 'pandas.core.frame.DataFrame'>\n",
      "RangeIndex: 300 entries, 0 to 299\n",
      "Data columns (total 3 columns):\n",
      " #   Column       Non-Null Count  Dtype\n",
      "---  ------       --------------  -----\n",
      " 0   subcategory  300 non-null    int64\n",
      " 1   category     300 non-null    int64\n",
      " 2   type         300 non-null    int64\n",
      "dtypes: int64(3)\n",
      "memory usage: 7.2 KB\n"
     ]
    }
   ],
   "source": [
    "Xval.info()"
   ]
  },
  {
   "cell_type": "code",
   "execution_count": null,
   "id": "a787270c",
   "metadata": {},
   "outputs": [],
   "source": [
    "def trainPass(scale, gamma, kernel, features, labels, validation_features, validation_labels):\n",
    "    modelSubcategory = sksvm.SVC(kernel=kernel, \n",
    "                                C=scale, \n",
    "                                gamma=gamma,\n",
    "                                degree=2 if kernel == 'poly' else 0,\n",
    "                                class_weight={\n",
    "                                        2:0.2700,\n",
    "                                        1:0.2994,\n",
    "                                        0:0.4305\n",
    "                                    }, \n",
    "                                probability=True, \n",
    "                                random_state=SEED,\n",
    "                                max_iter=10000)\n",
    "    modelSubcategory.fit(features, labels)\n",
    "    accuracy_score = modelSubcategory.score(validation_features, validation_labels)\n",
    "    return accuracy_score, modelSubcategory"
   ]
  },
  {
   "cell_type": "code",
   "execution_count": null,
   "id": "8e13d813",
   "metadata": {},
   "outputs": [],
   "source": [
    "if TRAINING:\n",
    "    bestScore = 0\n",
    "    bestModel = None\n",
    "    for k in ['rbf']:\n",
    "        for s in np.linspace(1,1.5,10):\n",
    "            for c in np.linspace(10,10,1):\n",
    "                score, model =  trainPass(c,s,k,Xtrain,Ytrain,Xval,Yval)\n",
    "                if score > bestScore:\n",
    "                    bestModel = model\n",
    "                    bestScore = score\n",
    "                print(f'Kernel: {k}, C: {c:.4f}, Gamma: {s:.4f} -> {score}')\n",
    "    print(f\"Accurecy: {bestScore*100:.4f}\")\n",
    "    print(bestModel)            "
   ]
  },
  {
   "cell_type": "markdown",
   "id": "ea03e0ac",
   "metadata": {},
   "source": [
    "Best model: kernel='rbf', C=10, gamma=1"
   ]
  },
  {
   "cell_type": "code",
   "execution_count": 21,
   "id": "08fa5e43",
   "metadata": {},
   "outputs": [],
   "source": [
    "if TRAINING:\n",
    "    joblib.dump(bestModel, 'categorySVCWeights.pkl')"
   ]
  },
  {
   "cell_type": "code",
   "execution_count": 49,
   "id": "8bcbbf53",
   "metadata": {},
   "outputs": [
    {
     "name": "stdout",
     "output_type": "stream",
     "text": [
      "Max: 71.4936%\n",
      "Min: 34.6141%\n",
      "Mean: 41.0117%\n",
      "Std: 6.2554%\n"
     ]
    }
   ],
   "source": [
    "if not TRAINING:\n",
    "    svm = joblib.load('categorySVCWeights.pkl')\n",
    "    \n",
    "results = svm.predict_proba(Xval)\n",
    "confidence = results[np.arange(results.shape[0]), np.argmax(results, axis=1)]*100\n",
    "\n",
    "print(f'Max: {confidence.max():.4f}%')\n",
    "print(f'Min: {confidence.min():.4f}%')\n",
    "print(f'Mean: {confidence.mean():.4f}%')\n",
    "print(f'Std: {confidence.std():.4f}%')"
   ]
  }
 ],
 "metadata": {
  "kernelspec": {
   "display_name": "Python 3",
   "language": "python",
   "name": "python3"
  },
  "language_info": {
   "codemirror_mode": {
    "name": "ipython",
    "version": 3
   },
   "file_extension": ".py",
   "mimetype": "text/x-python",
   "name": "python",
   "nbconvert_exporter": "python",
   "pygments_lexer": "ipython3",
   "version": "3.12.6"
  }
 },
 "nbformat": 4,
 "nbformat_minor": 5
}
