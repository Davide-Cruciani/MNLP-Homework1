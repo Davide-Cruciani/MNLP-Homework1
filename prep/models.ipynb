{
 "cells": [
  {
   "cell_type": "markdown",
   "id": "6568b665",
   "metadata": {},
   "source": [
    "## Subcategory SVM"
   ]
  },
  {
   "cell_type": "code",
   "execution_count": 12,
   "id": "1f7b8a9d",
   "metadata": {},
   "outputs": [],
   "source": [
    "from  sklearn import svm as sksvm\n",
    "import matplotlib.pyplot as plt\n",
    "from sklearn.metrics import confusion_matrix, ConfusionMatrixDisplay\n",
    "import pandas as pd\n",
    "import numpy as np\n",
    "import datasets\n",
    "import joblib\n",
    "import dotenv\n",
    "import os\n"
   ]
  },
  {
   "cell_type": "code",
   "execution_count": 2,
   "id": "0e173b16",
   "metadata": {},
   "outputs": [],
   "source": [
    "dotenv.load_dotenv()\n",
    "HF_TOKEN = os.environ['HF_TOKEN']\n",
    "DATASET_LINK = os.environ['DATASET_LINK']\n",
    "SEED = 42\n",
    "TRAINING = False\n",
    "datasetTotal = datasets.load_dataset(DATASET_LINK, token=HF_TOKEN)"
   ]
  },
  {
   "cell_type": "code",
   "execution_count": 3,
   "id": "73ecee97",
   "metadata": {},
   "outputs": [],
   "source": [
    "valSet = pd.DataFrame(datasetTotal['validation'])[['subcategory', 'label', 'category','type']]\n",
    "trainSet = pd.DataFrame(datasetTotal['train'])[['subcategory', 'label', 'category', 'type']]"
   ]
  },
  {
   "cell_type": "code",
   "execution_count": 4,
   "id": "48527f21",
   "metadata": {},
   "outputs": [
    {
     "name": "stdout",
     "output_type": "stream",
     "text": [
      "112\n",
      "{'music genre': 0, 'body language': 1, 'record label': 2, 'historian': 3, 'station': 4, 'religious book': 5, 'actor': 6, 'choreographer': 7, 'geographic location': 8, 'film studio': 9, 'television': 10, 'tradition': 11, 'archive': 12, 'animation studio': 13, 'happening': 14, 'historical event': 15, 'mores': 16, 'musical group': 17, 'politician': 18, 'literary award': 19, 'production company': 20, 'film producer': 21, 'mountain': 22, 'sports club': 23, 'animation technique': 24, 'publisher': 25, 'law': 26, 'artist': 27, 'architect': 28, 'drink': 29, 'art movement': 30, 'government': 31, 'film director': 32, 'architectural structure': 33, 'athlete': 34, 'writing style': 35, 'religious movement': 36, 'philosopher': 37, 'building': 38, 'dance': 39, 'poet': 40, 'photographer': 41, 'dish': 42, 'transport company': 43, 'philosophical movement': 44, 'sports equipment': 45, 'musician': 46, 'plant': 47, 'film genre': 48, 'designer': 49, 'religion': 50, 'sports team': 51, 'neighborhood': 52, 'ingredient': 53, 'cook': 54, 'art gallery': 55, 'fish': 56, 'animal': 57, 'automobile manufacturer': 58, 'writer': 59, 'musical profession': 60, 'transport': 61, 'monument': 62, 'comics artist': 63, 'recurring sporting event': 64, 'animated film': 65, 'environment': 66, 'non-fiction writer': 67, 'acting style': 68, 'clothing': 69, 'textile': 70, 'sport': 71, 'theatrical genre': 72, 'fashion trend': 73, 'tree': 74, 'poetry': 75, 'theatrical director': 76, 'film': 77, 'painting': 78, 'architectural style': 79, 'music festival': 80, 'literary genre': 81, 'comics': 82, 'gesture': 83, 'food': 84, 'book': 85, 'model': 86, 'bookstore': 87, 'film festival': 88, 'religious leader': 89, 'folk dance': 90, 'construction': 91, 'cooking technique': 92, 'building material': 93, 'traditional costume': 94, 'ritual': 95, 'river': 96, 'mode of transport': 97, 'streaming service': 98, 'government agency': 99, 'political party': 100, 'museum': 101, 'manga': 102, 'city': 103, 'greeting': 104, 'philosophy': 105, 'visual arts': 106, 'media company': 107, 'organism': 108, 'policy': 109, 'magazine': 110, 'biologist': 111}\n",
      "19\n",
      "{'fashion': 0, 'history': 1, 'comics and anime': 2, 'music': 3, 'transportation': 4, 'philosophy and religion': 5, 'literature': 6, 'media': 7, 'architecture': 8, 'sports': 9, 'gestures and habits': 10, 'geography': 11, 'performing arts': 12, 'books': 13, 'food': 14, 'biology': 15, 'visual arts': 16, 'films': 17, 'politics': 18}\n",
      "2\n"
     ]
    }
   ],
   "source": [
    "subcatTrain = set(trainSet['subcategory'])\n",
    "subcatVal = set(valSet['subcategory'])\n",
    "\n",
    "subcat = subcatTrain.union(subcatVal)\n",
    "print(len(subcat))\n",
    "aliasesSub = {k:i for i,k in enumerate(subcat)}\n",
    "print(aliasesSub)\n",
    "\n",
    "catTrain = set(trainSet['category'])\n",
    "catVal = set(valSet['category'])\n",
    "\n",
    "cat = catTrain.union(catVal)\n",
    "print(len(cat))\n",
    "\n",
    "aliasesCat = {k:i for i,k in enumerate(cat)}\n",
    "print(aliasesCat)\n",
    "\n",
    "typeTrain = set(trainSet['type'])\n",
    "typeVal = set(valSet['type'])\n",
    "\n",
    "typeTot = typeTrain.union(typeVal)\n",
    "aliasesType = {k:i for i,k in enumerate(typeTot)}\n",
    "print(len(typeTot))\n",
    "aliasLabel = {\n",
    "    'cultural exclusive':0,\n",
    "    'cultural agnostic':1,\n",
    "    'cultural representative':2\n",
    "}\n"
   ]
  },
  {
   "cell_type": "code",
   "execution_count": 5,
   "id": "aa7a3dda",
   "metadata": {},
   "outputs": [
    {
     "name": "stdout",
     "output_type": "stream",
     "text": [
      "(6251, 133)\n"
     ]
    }
   ],
   "source": [
    "subCategoryEncodingTrain = np.zeros((trainSet.shape[0], len(subcat)), dtype=int)\n",
    "categoryEncodingTrain = np.zeros((trainSet.shape[0], len(cat)), dtype=int)\n",
    "typeEncodingTrain = np.zeros((trainSet.shape[0], len(typeTot)), dtype=int)\n",
    "\n",
    "finalTrainLabel = trainSet['label'].apply(lambda x: aliasLabel[x])\n",
    "\n",
    "for i in range(trainSet.shape[0]):\n",
    "    subCategoryEncodingTrain[i][aliasesSub[trainSet['subcategory'].iloc[i]]] = 1\n",
    "    categoryEncodingTrain[i][aliasesCat[trainSet['category'].iloc[i]]] = 1\n",
    "    typeEncodingTrain[i][aliasesType[trainSet['type'].iloc[i]]] = 1\n",
    "    \n",
    "finalTrainData = np.concatenate((subCategoryEncodingTrain, categoryEncodingTrain, typeEncodingTrain), axis=1)\n",
    "print(finalTrainData.shape)"
   ]
  },
  {
   "cell_type": "code",
   "execution_count": 6,
   "id": "2862dfbe",
   "metadata": {},
   "outputs": [
    {
     "name": "stdout",
     "output_type": "stream",
     "text": [
      "(300, 133)\n"
     ]
    }
   ],
   "source": [
    "subCategoryEncodingVal = np.zeros((valSet.shape[0], len(subcat)), dtype=int)\n",
    "categoryEncodingVal = np.zeros((valSet.shape[0], len(cat)), dtype=int)\n",
    "typeEncodingVal = np.zeros((valSet.shape[0], len(typeTot)), dtype=int)\n",
    "\n",
    "finalValLabel = valSet['label'].apply(lambda x: aliasLabel[x])\n",
    "\n",
    "for i in range(valSet.shape[0]):\n",
    "    subCategoryEncodingVal[i][aliasesSub[valSet['subcategory'].iloc[i]]] = 1\n",
    "    categoryEncodingVal[i][aliasesCat[valSet['category'].iloc[i]]] = 1\n",
    "    typeEncodingVal[i][aliasesType[valSet['type'].iloc[i]]] = 1\n",
    "    \n",
    "finalValData = np.concatenate((subCategoryEncodingVal, categoryEncodingVal, typeEncodingVal), axis=1)\n",
    "print(finalValData.shape)"
   ]
  },
  {
   "cell_type": "code",
   "execution_count": 7,
   "id": "a787270c",
   "metadata": {},
   "outputs": [],
   "source": [
    "import sklearn.svm\n",
    "\n",
    "\n",
    "def trainPass(scale: float, \n",
    "              gamma: float, \n",
    "              kernel: str, \n",
    "              features: np.ndarray, \n",
    "              labels: np.ndarray, \n",
    "              validation_features: np.ndarray, \n",
    "              validation_labels: np.ndarray\n",
    "              )->tuple[float, sklearn.svm.SVC]:\n",
    "    modelSubcategory = sksvm.SVC(kernel=kernel, \n",
    "                                C=scale, \n",
    "                                gamma=gamma,\n",
    "                                class_weight={\n",
    "                                        2:0.2700,\n",
    "                                        1:0.2994,\n",
    "                                        0:0.4305\n",
    "                                    }, \n",
    "                                probability=True, \n",
    "                                random_state=SEED,\n",
    "                                max_iter=10000)\n",
    "    modelSubcategory.fit(features, labels)\n",
    "    accuracy_score = modelSubcategory.score(validation_features, validation_labels)\n",
    "    return accuracy_score, modelSubcategory"
   ]
  },
  {
   "cell_type": "code",
   "execution_count": 8,
   "id": "8e13d813",
   "metadata": {},
   "outputs": [],
   "source": [
    "# if TRAINING:\n",
    "#     bestScore = 0\n",
    "#     bestModel = None\n",
    "#     for k in ['rbf']:\n",
    "#         for s in np.linspace(1,1,1):\n",
    "#             for c in np.linspace(10,10,1):\n",
    "#                 scoreValidation, model =  trainPass(c,s,k,\n",
    "#                                           finalTrainData,\n",
    "#                                           finalTrainLabel,\n",
    "#                                           finalValData,\n",
    "#                                           finalValLabel)\n",
    "#                 if scoreValidation > bestScore:\n",
    "#                     bestModel = model\n",
    "#                     bestScore = scoreValidation\n",
    "#                 print(f'Kernel: {k}, C: {c:.4f}, Gamma: {s:.4f} -> {scoreValidation}')\n",
    "#     print(f\"Accurecy: {bestScore*100:.4f}\")\n",
    "#     print(bestModel)\n",
    "\n",
    "if TRAINING:\n",
    "    score, bestModel = trainPass(10,1,'rbf',\n",
    "                                 finalTrainData,\n",
    "                                 finalTrainLabel,\n",
    "                                 finalValData,\n",
    "                                 finalValLabel)\n",
    "    \n",
    "    print(f\"Accuracy: {score*100:.4f}%\")            "
   ]
  },
  {
   "cell_type": "markdown",
   "id": "ea03e0ac",
   "metadata": {},
   "source": [
    "Best model: kernel='rbf', C=10, gamma=1"
   ]
  },
  {
   "cell_type": "code",
   "execution_count": 9,
   "id": "08fa5e43",
   "metadata": {},
   "outputs": [],
   "source": [
    "if TRAINING:\n",
    "    joblib.dump(bestModel, 'categorySVCWeights.pkl')"
   ]
  },
  {
   "cell_type": "code",
   "execution_count": 10,
   "id": "8bcbbf53",
   "metadata": {},
   "outputs": [
    {
     "name": "stdout",
     "output_type": "stream",
     "text": [
      "Max confidence: 71.5127%\n",
      "Min confidence: 36.6784%\n",
      "Mean confidence: 50.0850%\n",
      "Std confidence: 7.4004%\n"
     ]
    }
   ],
   "source": [
    "if not TRAINING:\n",
    "    svm = joblib.load('categorySVCWeights.pkl')\n",
    "else:\n",
    "    svm = bestModel\n",
    "    \n",
    "results = svm.predict_proba(finalValData)\n",
    "confidence = results[np.arange(results.shape[0]), np.argmax(results, axis=1)]*100\n",
    "\n",
    "print(f'Max confidence: {confidence.max():.4f}%')\n",
    "print(f'Min confidence: {confidence.min():.4f}%')\n",
    "print(f'Mean confidence: {confidence.mean():.4f}%')\n",
    "print(f'Std confidence: {confidence.std():.4f}%')"
   ]
  },
  {
   "cell_type": "code",
   "execution_count": 22,
   "id": "c220112c",
   "metadata": {},
   "outputs": [
    {
     "data": {
      "image/png": "[encoded data removed]",
      "text/plain": [
       "<Figure size 640x480 with 2 Axes>"
      ]
     },
     "metadata": {},
     "output_type": "display_data"
    }
   ],
   "source": [
    "predictions = svm.predict(finalValData)\n",
    "\n",
    "cfm = confusion_matrix(y_true=finalValLabel, y_pred=predictions, labels=[0,1,2], normalize='true')\n",
    "disp = ConfusionMatrixDisplay(confusion_matrix=cfm, display_labels=['ce', 'ca', 'cr'])\n",
    "disp.plot()\n",
    "plt.show()"
   ]
  },
  {
   "cell_type": "code",
   "execution_count": 23,
   "id": "ec1e1529",
   "metadata": {},
   "outputs": [
    {
     "data": {
      "image/png": "[encoded data removed]",
      "text/plain": [
       "<Figure size 640x480 with 2 Axes>"
      ]
     },
     "metadata": {},
     "output_type": "display_data"
    }
   ],
   "source": [
    "predictions = svm.predict(finalTrainData)\n",
    "\n",
    "cfm = confusion_matrix(y_true=finalTrainLabel, y_pred=predictions, labels=[0,1,2], normalize='true')\n",
    "disp = ConfusionMatrixDisplay(confusion_matrix=cfm, display_labels=['ce', 'ca', 'cr'])\n",
    "disp.plot()\n",
    "plt.show()"
   ]
  }
 ],
 "metadata": {
  "kernelspec": {
   "display_name": "Python 3",
   "language": "python",
   "name": "python3"
  },
  "language_info": {
   "codemirror_mode": {
    "name": "ipython",
    "version": 3
   },
   "file_extension": ".py",
   "mimetype": "text/x-python",
   "name": "python",
   "nbconvert_exporter": "python",
   "pygments_lexer": "ipython3",
   "version": "3.12.6"
  }
 },
 "nbformat": 4,
 "nbformat_minor": 5
}
